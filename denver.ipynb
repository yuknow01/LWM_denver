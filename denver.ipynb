{
 "cells": [
  {
   "cell_type": "code",
   "execution_count": 6,
   "id": "309dc634-06c2-4657-acfe-7ce49ece128d",
   "metadata": {},
   "outputs": [
    {
     "name": "stdout",
     "output_type": "stream",
     "text": [
      "Defaulting to user installation because normal site-packages is not writeable\n",
      "Collecting deepmimo\n",
      "  Downloading deepmimo-4.0.0b10-py3-none-any.whl (225 kB)\n",
      "\u001b[2K     \u001b[90m━━━━━━━━━━━━━━━━━━━━━━━━━━━━━━━━━━━━━\u001b[0m \u001b[32m226.0/226.0 KB\u001b[0m \u001b[31m753.0 kB/s\u001b[0m eta \u001b[36m0:00:00\u001b[0m00:01\u001b[0m00:01\u001b[0m\n",
      "\u001b[?25hRequirement already satisfied: tqdm>=4.59.0 in /home/dlghdbs200/.local/lib/python3.10/site-packages (from deepmimo) (4.67.1)\n",
      "Requirement already satisfied: requests in /usr/local/lib/python3.10/dist-packages (from deepmimo) (2.32.4)\n",
      "Requirement already satisfied: numpy<2.3,>=1.19.5 in /home/dlghdbs200/.local/lib/python3.10/site-packages (from deepmimo) (2.2.6)\n",
      "Requirement already satisfied: scipy>=1.6.2 in /home/dlghdbs200/.local/lib/python3.10/site-packages (from deepmimo) (1.15.3)\n",
      "Requirement already satisfied: matplotlib>=3.8.2 in /home/dlghdbs200/.local/lib/python3.10/site-packages (from deepmimo) (3.10.3)\n",
      "Requirement already satisfied: contourpy>=1.0.1 in /home/dlghdbs200/.local/lib/python3.10/site-packages (from matplotlib>=3.8.2->deepmimo) (1.3.2)\n",
      "Requirement already satisfied: packaging>=20.0 in /usr/local/lib/python3.10/dist-packages (from matplotlib>=3.8.2->deepmimo) (25.0)\n",
      "Requirement already satisfied: fonttools>=4.22.0 in /home/dlghdbs200/.local/lib/python3.10/site-packages (from matplotlib>=3.8.2->deepmimo) (4.58.5)\n",
      "Requirement already satisfied: pyparsing>=2.3.1 in /usr/lib/python3/dist-packages (from matplotlib>=3.8.2->deepmimo) (2.4.7)\n",
      "Requirement already satisfied: python-dateutil>=2.7 in /usr/local/lib/python3.10/dist-packages (from matplotlib>=3.8.2->deepmimo) (2.9.0.post0)\n",
      "Requirement already satisfied: cycler>=0.10 in /home/dlghdbs200/.local/lib/python3.10/site-packages (from matplotlib>=3.8.2->deepmimo) (0.12.1)\n",
      "Requirement already satisfied: pillow>=8 in /home/dlghdbs200/.local/lib/python3.10/site-packages (from matplotlib>=3.8.2->deepmimo) (11.3.0)\n",
      "Requirement already satisfied: kiwisolver>=1.3.1 in /home/dlghdbs200/.local/lib/python3.10/site-packages (from matplotlib>=3.8.2->deepmimo) (1.4.8)\n",
      "Requirement already satisfied: charset_normalizer<4,>=2 in /usr/local/lib/python3.10/dist-packages (from requests->deepmimo) (3.4.2)\n",
      "Requirement already satisfied: idna<4,>=2.5 in /usr/lib/python3/dist-packages (from requests->deepmimo) (3.3)\n",
      "Requirement already satisfied: urllib3<3,>=1.21.1 in /usr/lib/python3/dist-packages (from requests->deepmimo) (1.26.5)\n",
      "Requirement already satisfied: certifi>=2017.4.17 in /usr/lib/python3/dist-packages (from requests->deepmimo) (2020.6.20)\n",
      "Requirement already satisfied: six>=1.5 in /usr/lib/python3/dist-packages (from python-dateutil>=2.7->matplotlib>=3.8.2->deepmimo) (1.16.0)\n",
      "Installing collected packages: deepmimo\n",
      "Successfully installed deepmimo-4.0.0b10\n",
      "Note: you may need to restart the kernel to use updated packages.\n"
     ]
    }
   ],
   "source": [
    "pip install --pre deepmimo"
   ]
  },
  {
   "cell_type": "code",
   "execution_count": 2,
   "id": "d2a27e7d-a0ea-407a-907b-8875ced7669c",
   "metadata": {},
   "outputs": [],
   "source": [
    "import torch\n",
    "import torch.nn as nn\n",
    "import torch.optim as optim\n",
    "import torchvision\n",
    "import torchvision.transforms as transforms\n",
    "from torch.utils.data import TensorDataset, DataLoader, random_split\n",
    "import DeepMIMOv3\n",
    "import numpy as np\n",
    "from pprint import pprint\n",
    "\n",
    "import matplotlib.pyplot as plt\n",
    "import time\n",
    "import math\n",
    "import torch\n",
    "from sklearn.preprocessing import MinMaxScaler\n",
    "from torch.utils.data import IterableDataset\n",
    "import numpy as np\n",
    "import time, gc\n",
    "from tqdm import tqdm\n",
    "import numpy as np\n",
    "import torch\n",
    "import random\n",
    "import torch.nn as nn\n",
    "# from lwm_model import lwm\n",
    "from torch.optim import Adam\n",
    "from pathlib import Path\n",
    "import torch, time\n",
    "\n"
   ]
  },
  {
   "cell_type": "code",
   "execution_count": 3,
   "id": "042f766a-f4aa-4b90-a4f4-a400dcf101c9",
   "metadata": {},
   "outputs": [
    {
     "name": "stdout",
     "output_type": "stream",
     "text": [
      "cuda\n"
     ]
    }
   ],
   "source": [
    "# GPU \n",
    "device = torch.device(\"cuda\" if torch.cuda.is_available() else \"cpu\")\n",
    "print(device)"
   ]
  },
  {
   "cell_type": "code",
   "execution_count": 4,
   "id": "8c649b19-7794-4fb9-8894-23d1339747ca",
   "metadata": {},
   "outputs": [
    {
     "name": "stdout",
     "output_type": "stream",
     "text": [
      "12.6\n",
      "90501\n",
      "CUDA available: True\n"
     ]
    }
   ],
   "source": [
    "import torch\n",
    "print(torch.version.cuda)                   \n",
    "print(torch.backends.cudnn.version())       \n",
    "print(\"CUDA available:\", torch.cuda.is_available())  # True"
   ]
  },
  {
   "cell_type": "markdown",
   "id": "02ced925-be5b-4bde-be12-01b379b794da",
   "metadata": {},
   "source": [
    "## dataset denver download if you download than pass"
   ]
  },
  {
   "cell_type": "code",
   "execution_count": 35,
   "id": "33e19fd3-e6ec-4007-bb2f-2ce81ac1aa23",
   "metadata": {},
   "outputs": [],
   "source": [
    "import deepmimo as dm\n",
    "\n",
    "# Search for scenarios matching criteria\n",
    "scenarios = dm.search()"
   ]
  },
  {
   "cell_type": "code",
   "execution_count": 36,
   "id": "40ed4b85-bf43-4db4-9e40-e1d9df833ec6",
   "metadata": {},
   "outputs": [
    {
     "data": {
      "text/plain": [
       "['asu_campus_3p5',\n",
       " 'city_0_newyork_3p5',\n",
       " 'city_1_losangeles_3p5',\n",
       " 'city_2_chicago_3p5',\n",
       " 'city_3_houston_3p5',\n",
       " 'city_4_phoenix_3p5',\n",
       " 'city_5_philadelphia_3p5',\n",
       " 'city_6_miami_3p5',\n",
       " 'city_7_sandiego_3p5',\n",
       " 'city_8_dallas_3p5',\n",
       " 'city_9_sanfrancisco_3p5',\n",
       " 'city_10_austin_3p5',\n",
       " 'city_11_santaclara_3p5',\n",
       " 'city_12_fortworth_3p5',\n",
       " 'city_13_columbus_3p5',\n",
       " 'city_14_charlotte_3p5',\n",
       " 'city_15_indianapolis_3p5',\n",
       " 'city_16_sanfrancisco_3p5',\n",
       " 'city_17_seattle_3p5',\n",
       " 'city_18_denver_3p5',\n",
       " 'city_19_oklahoma_3p5',\n",
       " 'i1_2p5',\n",
       " 'i2_28b',\n",
       " 'city_0_newyork_28',\n",
       " 'city_1_losangeles_28',\n",
       " 'city_2_chicago_28',\n",
       " 'city_3_houston_28',\n",
       " 'city_4_phoenix_28',\n",
       " 'city_5_philadelphia_28',\n",
       " 'city_7_sandiego_28',\n",
       " 'city_6_miami_28',\n",
       " 'city_8_dallas_28',\n",
       " 'city_9_sanfrancisco_28',\n",
       " 'city_10_austin_28',\n",
       " 'city_11_santaclara_28',\n",
       " 'city_12_fortworth_28',\n",
       " 'city_13_columbus_28',\n",
       " 'city_14_charlotte_28',\n",
       " 'city_15_indianapolis_28',\n",
       " 'city_16_sanfrancisco_28',\n",
       " 'city_17_seattle_28',\n",
       " 'city_18_denver_28',\n",
       " 'city_19_oklahoma_28',\n",
       " 'o1_3p5',\n",
       " 'o1_3p4',\n",
       " 'o1b_3p5',\n",
       " 'o1b_28',\n",
       " 'o1_drone_200',\n",
       " 'o1_140',\n",
       " 'i2_28b',\n",
       " 'i1_2p5',\n",
       " 'i1_2p4',\n",
       " 'o1_28',\n",
       " 'o1_60',\n",
       " 'boston5g_3p5',\n",
       " 'boston5g_28',\n",
       " 'city_21_taito_city_3p5',\n",
       " 'city_22_rome_3p5',\n",
       " 'city_23_beijing_3p5',\n",
       " 'city_24_cairo_3p5',\n",
       " 'city_26_dubai_3p5',\n",
       " 'city_27_rio_de_janeiro_3p5',\n",
       " 'city_28_mumbai_3p5',\n",
       " 'city_29_centro_3p5',\n",
       " 'city_30_singapore_3p5',\n",
       " 'city_31_barcelona_3p5',\n",
       " 'city_32_sydney_3p5',\n",
       " 'city_33_hong_kong_3p5',\n",
       " 'city_34_amsterdam_3p5',\n",
       " 'city_35_san_francisco_3p5',\n",
       " 'city_36_bangkok_3p5',\n",
       " 'city_37_seoul_3p5',\n",
       " 'city_38_toronto_3p5',\n",
       " 'city_39_jerusalem_3p5',\n",
       " 'city_40_prague_3p5',\n",
       " 'city_40_prague_3p5',\n",
       " 'city_41_kyoto_3p5',\n",
       " 'city_42_san_nicolas_3p5',\n",
       " 'city_43_cape_town_3p5',\n",
       " 'city_44_lisboa_3p5',\n",
       " 'city_45_stockholm_3p5',\n",
       " 'city_46_la_habana_3p5',\n",
       " 'city_47_chicago_3p5',\n",
       " 'city_48_gurbchen_3p5',\n",
       " 'city_48_gurbchen_3p5',\n",
       " 'city_25_instanbul_3p5',\n",
       " 'city_49_new_delhi_3p5',\n",
       " 'city_50_edinburgh_3p5',\n",
       " 'city_50_edinburgh_3p5',\n",
       " 'city_51_firenze_3p5',\n",
       " 'city_52_marrakesh_3p5',\n",
       " 'city_53_sankt-peterburg_3p5',\n",
       " 'city_54_north_jakarta_3p5',\n",
       " 'city_55_madrid_3p5',\n",
       " 'city_56_montreal_3p5',\n",
       " 'city_57_taipei_3p5',\n",
       " 'city_58_sumida_city_3p5',\n",
       " 'city_59_roma_3p5',\n",
       " 'city_60_toronto_3p5',\n",
       " 'city_61_hatsukaichi_3p5',\n",
       " 'city_62_santiago_3p5',\n",
       " 'city_63_athens_3p5',\n",
       " 'city_64_new_york_3p5',\n",
       " 'city_65_granada_3p5',\n",
       " 'city_66_bruxelles_3p5',\n",
       " 'city_67_fujiyoshida_3p5',\n",
       " 'city_68_reykjavik_3p5',\n",
       " 'city_69_warszawa_3p5',\n",
       " 'city_70_stockholm_3p5',\n",
       " 'city_71_helsinki_3p5',\n",
       " 'city_0_newyork_3p5_s',\n",
       " 'city_11_santaclara_3p5_s',\n",
       " 'city_1_losangeles_3p5_s',\n",
       " 'city_19_oklahoma_3p5_s',\n",
       " 'city_18_denver_3p5_s',\n",
       " 'city_17_seattle_3p5_s',\n",
       " 'city_16_sanfrancisco_3p5_s',\n",
       " 'city_9_sanfrancisco_3p5_s',\n",
       " 'city_13_columbus_3p5_s',\n",
       " 'city_2_chicago_3p5_s',\n",
       " 'city_8_dallas_3p5_s',\n",
       " 'city_5_philadelphia_3p5_s',\n",
       " 'city_7_sandiego_3p5_s',\n",
       " 'city_3_houston_3p5_s',\n",
       " 'city_14_charlotte_3p5_s',\n",
       " 'city_4_phoenix_3p5_s',\n",
       " 'city_15_indianapolis_3p5_s',\n",
       " 'city_6_miami_3p5_s',\n",
       " 'city_10_austin_3p5_s',\n",
       " 'city_12_fortworth_3p5_s',\n",
       " 'city_19_oklahoma_3p5_lwm',\n",
       " 'city_0_newyork_3p5_lwm',\n",
       " 'city_1_losangeles_3p5_lwm',\n",
       " 'city_2_chicago_3p5_lwm',\n",
       " 'city_3_houston_3p5_lwm',\n",
       " 'city_4_phoenix_3p5_lwm',\n",
       " 'city_5_philadelphia_3p5_lwm',\n",
       " 'city_6_miami_3p5_lwm',\n",
       " 'city_7_sandiego_3p5_lwm',\n",
       " 'city_8_dallas_3p5_lwm',\n",
       " 'city_9_sanfrancisco_3p5_lwm',\n",
       " 'city_10_austin_3p5_lwm',\n",
       " 'city_11_santaclara_3p5_lwm',\n",
       " 'city_12_fortworth_3p5_lwm',\n",
       " 'city_13_columbus_3p5_lwm',\n",
       " 'city_14_charlotte_3p5_lwm',\n",
       " 'city_15_indianapolis_3p5_lwm',\n",
       " 'city_16_sanfrancisco_3p5_lwm',\n",
       " 'city_17_seattle_3p5_lwm',\n",
       " 'city_18_denver_3p5_lwm',\n",
       " 'i3_60',\n",
       " 'i3_2p4',\n",
       " 'city_01_villas_florida',\n",
       " 'city_0_newyork_new',\n",
       " 'asu_campus_3p5_10cm',\n",
       " 'asu_campus_3p5_dyn',\n",
       " 'city_01_villas_florida_1gp',\n",
       " 'city_01_villas_florida_2gp',\n",
       " 'city_10_florida_villa_2gp',\n",
       " 'city_19_oklahoma_3p68_gc2',\n",
       " 'city_10_florida_villa_7gp',\n",
       " 'city_10_florida_villa_8gp_1758135830233']"
      ]
     },
     "execution_count": 36,
     "metadata": {},
     "output_type": "execute_result"
    }
   ],
   "source": [
    "scenarios"
   ]
  },
  {
   "cell_type": "code",
   "execution_count": 37,
   "id": "58402af8-16ae-47c0-9ed1-5b61727634e2",
   "metadata": {},
   "outputs": [
    {
     "name": "stdout",
     "output_type": "stream",
     "text": [
      "Scenario \"city_18_denver_28\" already exists in /home/dlghdbs200/LWM_denver/deepmimo_scenarios\n"
     ]
    }
   ],
   "source": [
    "import deepmimo as dm\n",
    "\n",
    "# Download a specific scenario\n",
    "dm.download('city_18_denver_28')"
   ]
  },
  {
   "cell_type": "markdown",
   "id": "8bbe816b-f8f0-42a4-a1db-26c752132b9b",
   "metadata": {},
   "source": [
    "# dataset load"
   ]
  },
  {
   "cell_type": "code",
   "execution_count": 38,
   "id": "9af341ca-03d3-423d-b26c-4169f2d34e3c",
   "metadata": {},
   "outputs": [
    {
     "name": "stdout",
     "output_type": "stream",
     "text": [
      "Loading TXRX PAIR: TXset 1 (tx_idx 0) & RXset 0 (rx_idxs 43248)\n",
      "Loading TXRX PAIR: TXset 2 (tx_idx 0) & RXset 0 (rx_idxs 43248)\n",
      "Loading TXRX PAIR: TXset 3 (tx_idx 0) & RXset 0 (rx_idxs 43248)\n"
     ]
    },
    {
     "name": "stderr",
     "output_type": "stream",
     "text": [
      "Generating channels: 100%|█████████████████████████████████████████████████████| 43248/43248 [00:01<00:00, 27861.74it/s]\n",
      "Generating channels: 100%|█████████████████████████████████████████████████████| 43248/43248 [00:01<00:00, 24534.60it/s]\n",
      "Generating channels: 100%|█████████████████████████████████████████████████████| 43248/43248 [00:01<00:00, 26819.05it/s]\n"
     ]
    }
   ],
   "source": [
    "import deepmimo as dm\n",
    "\n",
    "# Load dataset\n",
    "dataset = dm.load(\"city_18_denver_28\")\n",
    "\n",
    "# Access dataset properties\n",
    "aoa_az = dataset.aoa_az\n",
    "aoa_el = dataset.aoa_el\n",
    "inter_pos = dataset.inter_pos\n",
    "\n",
    "# Compute specific channel information\n",
    "# los = dataset.compute_los()\n",
    "channels = dataset.compute_channels()\n",
    "pl = dataset.compute_pathloss()"
   ]
  },
  {
   "cell_type": "code",
   "execution_count": 53,
   "id": "c927c1fa-dad6-4581-ac78-bc2c65b19b72",
   "metadata": {},
   "outputs": [
    {
     "data": {
      "text/plain": [
       "(43248, 1, 8, 1)"
      ]
     },
     "execution_count": 53,
     "metadata": {},
     "output_type": "execute_result"
    }
   ],
   "source": [
    "channels[0].shape"
   ]
  },
  {
   "cell_type": "code",
   "execution_count": 57,
   "id": "c054a1b2-bd61-4c36-9862-79884320e360",
   "metadata": {},
   "outputs": [
    {
     "data": {
      "text/plain": [
       "(43248,)"
      ]
     },
     "execution_count": 57,
     "metadata": {},
     "output_type": "execute_result"
    }
   ],
   "source": [
    "pl[0].shape"
   ]
  },
  {
   "cell_type": "code",
   "execution_count": 61,
   "id": "3e7a0995-f292-46b0-9f9c-1e11162cceb3",
   "metadata": {},
   "outputs": [
    {
     "data": {
      "text/plain": [
       "array([[-4.0636469e-10-2.4687419e-10j],\n",
       "       [ 4.0486328e-10+2.4921543e-10j],\n",
       "       [-4.0334483e-10-2.5152960e-10j],\n",
       "       [ 4.0180989e-10+2.5381652e-10j],\n",
       "       [-4.0025908e-10-2.5607602e-10j],\n",
       "       [ 3.9869291e-10+2.5830790e-10j],\n",
       "       [-3.9711204e-10-2.6051203e-10j],\n",
       "       [ 3.9551701e-10+2.6268823e-10j]], dtype=complex64)"
      ]
     },
     "execution_count": 61,
     "metadata": {},
     "output_type": "execute_result"
    }
   ],
   "source": [
    "channels[0][0][0]"
   ]
  },
  {
   "cell_type": "code",
   "execution_count": 67,
   "id": "f48c5b65-8187-47fd-9f70-8c1041b2a7fe",
   "metadata": {},
   "outputs": [
    {
     "name": "stdout",
     "output_type": "stream",
     "text": [
      "Package                   Version\n",
      "------------------------- --------------\n",
      "ace_tools                 0.0\n",
      "anyio                     4.9.0\n",
      "argon2-cffi               25.1.0\n",
      "argon2-cffi-bindings      21.2.0\n",
      "arrow                     1.3.0\n",
      "asttokens                 3.0.0\n",
      "async-lru                 2.0.5\n",
      "attrs                     25.3.0\n",
      "Automat                   20.2.0\n",
      "babel                     2.17.0\n",
      "bcrypt                    3.2.0\n",
      "beautifulsoup4            4.13.4\n",
      "bleach                    6.2.0\n",
      "blinker                   1.4\n",
      "certifi                   2020.6.20\n",
      "cffi                      1.17.1\n",
      "chardet                   4.0.0\n",
      "charset-normalizer        3.4.2\n",
      "click                     8.0.3\n",
      "cloud-init                25.1.4\n",
      "colorama                  0.4.4\n",
      "comm                      0.2.2\n",
      "command-not-found         0.3\n",
      "configobj                 5.0.6\n",
      "constantly                15.1.0\n",
      "contourpy                 1.3.2\n",
      "cpplint                   1.5.5\n",
      "cryptography              3.4.8\n",
      "cycler                    0.12.1\n",
      "dbus-python               1.2.18\n",
      "debugpy                   1.8.14\n",
      "decorator                 5.2.1\n",
      "DeepMIMO                  4.0.0b10\n",
      "DeepMIMOv3                0.2.9\n",
      "DeepVerse                 0.0.4\n",
      "defusedxml                0.7.1\n",
      "distro                    1.7.0\n",
      "distro-info               1.1+ubuntu0.2\n",
      "exceptiongroup            1.3.0\n",
      "executing                 2.2.0\n",
      "fastjsonschema            2.21.1\n",
      "filelock                  3.18.0\n",
      "fonttools                 4.58.5\n",
      "fqdn                      1.5.1\n",
      "fsspec                    2025.5.1\n",
      "h11                       0.16.0\n",
      "httpcore                  1.0.9\n",
      "httplib2                  0.20.2\n",
      "httpx                     0.28.1\n",
      "hyperlink                 21.0.0\n",
      "idna                      3.3\n",
      "importlib-metadata        4.6.4\n",
      "incremental               21.3.0\n",
      "ipykernel                 6.29.5\n",
      "ipython                   8.37.0\n",
      "isoduration               20.11.0\n",
      "jedi                      0.19.2\n",
      "jeepney                   0.7.1\n",
      "Jinja2                    3.0.3\n",
      "joblib                    1.5.1\n",
      "json5                     0.12.0\n",
      "jsonpatch                 1.32\n",
      "jsonpointer               2.0\n",
      "jsonschema                4.24.0\n",
      "jsonschema-specifications 2025.4.1\n",
      "jupyter_client            8.6.3\n",
      "jupyter_core              5.8.1\n",
      "jupyter-events            0.12.0\n",
      "jupyter-lsp               2.2.5\n",
      "jupyter_server            2.16.0\n",
      "jupyter_server_terminals  0.5.3\n",
      "jupyterlab                4.4.4\n",
      "jupyterlab_pygments       0.3.0\n",
      "jupyterlab_server         2.27.3\n",
      "keyring                   23.5.0\n",
      "kiwisolver                1.4.8\n",
      "launchpadlib              1.10.16\n",
      "lazr.restfulclient        0.14.4\n",
      "lazr.uri                  1.0.6\n",
      "MarkupSafe                2.0.1\n",
      "matplotlib                3.10.3\n",
      "matplotlib-inline         0.1.7\n",
      "mistune                   3.1.3\n",
      "more-itertools            8.10.0\n",
      "mpmath                    1.3.0\n",
      "natsort                   8.4.0\n",
      "nbclient                  0.10.2\n",
      "nbconvert                 7.16.6\n",
      "nbformat                  5.10.4\n",
      "nest-asyncio              1.6.0\n",
      "netifaces                 0.11.0\n",
      "networkx                  3.4.2\n",
      "notebook                  7.4.3\n",
      "notebook_shim             0.2.4\n",
      "numpy                     2.2.6\n",
      "nvidia-cublas-cu12        12.6.4.1\n",
      "nvidia-cuda-cupti-cu12    12.6.80\n",
      "nvidia-cuda-nvrtc-cu12    12.6.77\n",
      "nvidia-cuda-runtime-cu12  12.6.77\n",
      "nvidia-cudnn-cu12         9.5.1.17\n",
      "nvidia-cufft-cu12         11.3.0.4\n",
      "nvidia-cufile-cu12        1.11.1.6\n",
      "nvidia-curand-cu12        10.3.7.77\n",
      "nvidia-cusolver-cu12      11.7.1.2\n",
      "nvidia-cusparse-cu12      12.5.4.2\n",
      "nvidia-cusparselt-cu12    0.6.3\n",
      "nvidia-nccl-cu12          2.26.2\n",
      "nvidia-nvjitlink-cu12     12.6.85\n",
      "nvidia-nvtx-cu12          12.6.77\n",
      "oauthlib                  3.2.0\n",
      "overrides                 7.7.0\n",
      "packaging                 25.0\n",
      "pandas                    2.3.1\n",
      "pandocfilters             1.5.1\n",
      "parso                     0.8.4\n",
      "pexpect                   4.9.0\n",
      "pillow                    11.3.0\n",
      "pip                       22.0.2\n",
      "platformdirs              4.3.8\n",
      "prometheus_client         0.22.1\n",
      "prompt_toolkit            3.0.51\n",
      "psutil                    7.0.0\n",
      "ptyprocess                0.7.0\n",
      "pure_eval                 0.2.3\n",
      "pyasn1                    0.4.8\n",
      "pyasn1-modules            0.2.1\n",
      "pycparser                 2.22\n",
      "pycurl                    7.44.1\n",
      "Pygments                  2.11.2\n",
      "PyGObject                 3.42.1\n",
      "PyHamcrest                2.0.2\n",
      "PyJWT                     2.3.0\n",
      "pyOpenSSL                 21.0.0\n",
      "pyparsing                 2.4.7\n",
      "pyrsistent                0.18.1\n",
      "pyserial                  3.5\n",
      "python-apt                2.4.0+ubuntu4\n",
      "python-dateutil           2.9.0.post0\n",
      "python-json-logger        3.3.0\n",
      "pytz                      2022.1\n",
      "PyYAML                    5.4.1\n",
      "pyzmq                     27.0.0\n",
      "referencing               0.36.2\n",
      "requests                  2.32.4\n",
      "rfc3339-validator         0.1.4\n",
      "rfc3986-validator         0.1.1\n",
      "rpds-py                   0.25.1\n",
      "scikit-learn              1.7.0\n",
      "scipy                     1.15.3\n",
      "SecretStorage             3.3.1\n",
      "Send2Trash                1.8.3\n",
      "service-identity          18.1.0\n",
      "setuptools                59.6.0\n",
      "six                       1.16.0\n",
      "sniffio                   1.3.1\n",
      "soupsieve                 2.7\n",
      "stack-data                0.6.3\n",
      "sympy                     1.14.0\n",
      "systemd-python            234\n",
      "tabulate                  0.9.0\n",
      "terminado                 0.18.1\n",
      "threadpoolctl             3.6.0\n",
      "tinycss2                  1.4.0\n",
      "tomli                     2.2.1\n",
      "torch                     2.7.1\n",
      "torchvision               0.22.1\n",
      "tornado                   6.5.1\n",
      "tqdm                      4.67.1\n",
      "traitlets                 5.14.3\n",
      "triton                    3.3.1\n",
      "Twisted                   22.1.0\n",
      "types-python-dateutil     2.9.0.20250516\n",
      "typing_extensions         4.14.0\n",
      "tzdata                    2025.2\n",
      "ubuntu-pro-client         8001\n",
      "ufw                       0.36.1\n",
      "unattended-upgrades       0.1\n",
      "uri-template              1.3.0\n",
      "urllib3                   1.26.5\n",
      "wadllib                   1.3.6\n",
      "wcwidth                   0.2.13\n",
      "webcolors                 24.11.1\n",
      "webencodings              0.5.1\n",
      "websocket-client          1.8.0\n",
      "wheel                     0.37.1\n",
      "zipp                      1.0.0\n",
      "zope.interface            5.4.0\n",
      "Note: you may need to restart the kernel to use updated packages.\n"
     ]
    }
   ],
   "source": [
    "pip list"
   ]
  },
  {
   "cell_type": "code",
   "execution_count": null,
   "id": "6ac305ea-9fa2-46c5-8577-519e5bb5bb95",
   "metadata": {},
   "outputs": [],
   "source": []
  }
 ],
 "metadata": {
  "kernelspec": {
   "display_name": "Python 3 (ipykernel)",
   "language": "python",
   "name": "python3"
  },
  "language_info": {
   "codemirror_mode": {
    "name": "ipython",
    "version": 3
   },
   "file_extension": ".py",
   "mimetype": "text/x-python",
   "name": "python",
   "nbconvert_exporter": "python",
   "pygments_lexer": "ipython3",
   "version": "3.10.12"
  }
 },
 "nbformat": 4,
 "nbformat_minor": 5
}
