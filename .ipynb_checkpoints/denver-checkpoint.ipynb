{
 "cells": [
  {
   "cell_type": "code",
   "execution_count": 6,
   "id": "309dc634-06c2-4657-acfe-7ce49ece128d",
   "metadata": {},
   "outputs": [
    {
     "name": "stdout",
     "output_type": "stream",
     "text": [
      "Defaulting to user installation because normal site-packages is not writeable\n",
      "Collecting deepmimo\n",
      "  Downloading deepmimo-4.0.0b10-py3-none-any.whl (225 kB)\n",
      "\u001b[2K     \u001b[90m━━━━━━━━━━━━━━━━━━━━━━━━━━━━━━━━━━━━━\u001b[0m \u001b[32m226.0/226.0 KB\u001b[0m \u001b[31m753.0 kB/s\u001b[0m eta \u001b[36m0:00:00\u001b[0m00:01\u001b[0m00:01\u001b[0m\n",
      "\u001b[?25hRequirement already satisfied: tqdm>=4.59.0 in /home/dlghdbs200/.local/lib/python3.10/site-packages (from deepmimo) (4.67.1)\n",
      "Requirement already satisfied: requests in /usr/local/lib/python3.10/dist-packages (from deepmimo) (2.32.4)\n",
      "Requirement already satisfied: numpy<2.3,>=1.19.5 in /home/dlghdbs200/.local/lib/python3.10/site-packages (from deepmimo) (2.2.6)\n",
      "Requirement already satisfied: scipy>=1.6.2 in /home/dlghdbs200/.local/lib/python3.10/site-packages (from deepmimo) (1.15.3)\n",
      "Requirement already satisfied: matplotlib>=3.8.2 in /home/dlghdbs200/.local/lib/python3.10/site-packages (from deepmimo) (3.10.3)\n",
      "Requirement already satisfied: contourpy>=1.0.1 in /home/dlghdbs200/.local/lib/python3.10/site-packages (from matplotlib>=3.8.2->deepmimo) (1.3.2)\n",
      "Requirement already satisfied: packaging>=20.0 in /usr/local/lib/python3.10/dist-packages (from matplotlib>=3.8.2->deepmimo) (25.0)\n",
      "Requirement already satisfied: fonttools>=4.22.0 in /home/dlghdbs200/.local/lib/python3.10/site-packages (from matplotlib>=3.8.2->deepmimo) (4.58.5)\n",
      "Requirement already satisfied: pyparsing>=2.3.1 in /usr/lib/python3/dist-packages (from matplotlib>=3.8.2->deepmimo) (2.4.7)\n",
      "Requirement already satisfied: python-dateutil>=2.7 in /usr/local/lib/python3.10/dist-packages (from matplotlib>=3.8.2->deepmimo) (2.9.0.post0)\n",
      "Requirement already satisfied: cycler>=0.10 in /home/dlghdbs200/.local/lib/python3.10/site-packages (from matplotlib>=3.8.2->deepmimo) (0.12.1)\n",
      "Requirement already satisfied: pillow>=8 in /home/dlghdbs200/.local/lib/python3.10/site-packages (from matplotlib>=3.8.2->deepmimo) (11.3.0)\n",
      "Requirement already satisfied: kiwisolver>=1.3.1 in /home/dlghdbs200/.local/lib/python3.10/site-packages (from matplotlib>=3.8.2->deepmimo) (1.4.8)\n",
      "Requirement already satisfied: charset_normalizer<4,>=2 in /usr/local/lib/python3.10/dist-packages (from requests->deepmimo) (3.4.2)\n",
      "Requirement already satisfied: idna<4,>=2.5 in /usr/lib/python3/dist-packages (from requests->deepmimo) (3.3)\n",
      "Requirement already satisfied: urllib3<3,>=1.21.1 in /usr/lib/python3/dist-packages (from requests->deepmimo) (1.26.5)\n",
      "Requirement already satisfied: certifi>=2017.4.17 in /usr/lib/python3/dist-packages (from requests->deepmimo) (2020.6.20)\n",
      "Requirement already satisfied: six>=1.5 in /usr/lib/python3/dist-packages (from python-dateutil>=2.7->matplotlib>=3.8.2->deepmimo) (1.16.0)\n",
      "Installing collected packages: deepmimo\n",
      "Successfully installed deepmimo-4.0.0b10\n",
      "Note: you may need to restart the kernel to use updated packages.\n"
     ]
    }
   ],
   "source": [
    "pip install --pre deepmimo"
   ]
  },
  {
   "cell_type": "code",
   "execution_count": 2,
   "id": "d2a27e7d-a0ea-407a-907b-8875ced7669c",
   "metadata": {},
   "outputs": [],
   "source": [
    "import torch\n",
    "import torch.nn as nn\n",
    "import torch.optim as optim\n",
    "import torchvision\n",
    "import torchvision.transforms as transforms\n",
    "from torch.utils.data import TensorDataset, DataLoader, random_split\n",
    "import DeepMIMOv3\n",
    "import numpy as np\n",
    "from pprint import pprint\n",
    "\n",
    "import matplotlib.pyplot as plt\n",
    "import time\n",
    "import math\n",
    "import torch\n",
    "from sklearn.preprocessing import MinMaxScaler\n",
    "from torch.utils.data import IterableDataset\n",
    "import numpy as np\n",
    "import time, gc\n",
    "from tqdm import tqdm\n",
    "import numpy as np\n",
    "import torch\n",
    "import random\n",
    "import torch.nn as nn\n",
    "# from lwm_model import lwm\n",
    "from torch.optim import Adam\n",
    "from pathlib import Path\n",
    "import torch, time\n",
    "\n"
   ]
  },
  {
   "cell_type": "code",
   "execution_count": 3,
   "id": "042f766a-f4aa-4b90-a4f4-a400dcf101c9",
   "metadata": {},
   "outputs": [
    {
     "name": "stdout",
     "output_type": "stream",
     "text": [
      "cuda\n"
     ]
    }
   ],
   "source": [
    "# GPU \n",
    "device = torch.device(\"cuda\" if torch.cuda.is_available() else \"cpu\")\n",
    "print(device)"
   ]
  },
  {
   "cell_type": "code",
   "execution_count": 4,
   "id": "8c649b19-7794-4fb9-8894-23d1339747ca",
   "metadata": {},
   "outputs": [
    {
     "name": "stdout",
     "output_type": "stream",
     "text": [
      "12.6\n",
      "90501\n",
      "CUDA available: True\n"
     ]
    }
   ],
   "source": [
    "import torch\n",
    "print(torch.version.cuda)                   \n",
    "print(torch.backends.cudnn.version())       \n",
    "print(\"CUDA available:\", torch.cuda.is_available())  # True"
   ]
  },
  {
   "cell_type": "markdown",
   "id": "02ced925-be5b-4bde-be12-01b379b794da",
   "metadata": {},
   "source": [
    "## dataset denver download if you download than pass"
   ]
  },
  {
   "cell_type": "code",
   "execution_count": 25,
   "id": "33e19fd3-e6ec-4007-bb2f-2ce81ac1aa23",
   "metadata": {},
   "outputs": [],
   "source": [
    "import deepmimo as dm\n",
    "\n",
    "# Search for scenarios matching criteria\n",
    "scenarios = dm.search()"
   ]
  },
  {
   "cell_type": "code",
   "execution_count": 26,
   "id": "40ed4b85-bf43-4db4-9e40-e1d9df833ec6",
   "metadata": {},
   "outputs": [
    {
     "data": {
      "text/plain": [
       "['asu_campus_3p5',\n",
       " 'city_0_newyork_3p5',\n",
       " 'city_1_losangeles_3p5',\n",
       " 'city_2_chicago_3p5',\n",
       " 'city_3_houston_3p5',\n",
       " 'city_4_phoenix_3p5',\n",
       " 'city_5_philadelphia_3p5',\n",
       " 'city_6_miami_3p5',\n",
       " 'city_7_sandiego_3p5',\n",
       " 'city_8_dallas_3p5',\n",
       " 'city_9_sanfrancisco_3p5',\n",
       " 'city_10_austin_3p5',\n",
       " 'city_11_santaclara_3p5',\n",
       " 'city_12_fortworth_3p5',\n",
       " 'city_13_columbus_3p5',\n",
       " 'city_14_charlotte_3p5',\n",
       " 'city_15_indianapolis_3p5',\n",
       " 'city_16_sanfrancisco_3p5',\n",
       " 'city_17_seattle_3p5',\n",
       " 'city_18_denver_3p5',\n",
       " 'city_19_oklahoma_3p5',\n",
       " 'i1_2p5',\n",
       " 'i2_28b',\n",
       " 'city_0_newyork_28',\n",
       " 'city_1_losangeles_28',\n",
       " 'city_2_chicago_28',\n",
       " 'city_3_houston_28',\n",
       " 'city_4_phoenix_28',\n",
       " 'city_5_philadelphia_28',\n",
       " 'city_7_sandiego_28',\n",
       " 'city_6_miami_28',\n",
       " 'city_8_dallas_28',\n",
       " 'city_9_sanfrancisco_28',\n",
       " 'city_10_austin_28',\n",
       " 'city_11_santaclara_28',\n",
       " 'city_12_fortworth_28',\n",
       " 'city_13_columbus_28',\n",
       " 'city_14_charlotte_28',\n",
       " 'city_15_indianapolis_28',\n",
       " 'city_16_sanfrancisco_28',\n",
       " 'city_17_seattle_28',\n",
       " 'city_18_denver_28',\n",
       " 'city_19_oklahoma_28',\n",
       " 'o1_3p5',\n",
       " 'o1_3p4',\n",
       " 'o1b_3p5',\n",
       " 'o1b_28',\n",
       " 'o1_drone_200',\n",
       " 'o1_140',\n",
       " 'i2_28b',\n",
       " 'i1_2p5',\n",
       " 'i1_2p4',\n",
       " 'o1_28',\n",
       " 'o1_60',\n",
       " 'boston5g_3p5',\n",
       " 'boston5g_28',\n",
       " 'city_21_taito_city_3p5',\n",
       " 'city_22_rome_3p5',\n",
       " 'city_23_beijing_3p5',\n",
       " 'city_24_cairo_3p5',\n",
       " 'city_26_dubai_3p5',\n",
       " 'city_27_rio_de_janeiro_3p5',\n",
       " 'city_28_mumbai_3p5',\n",
       " 'city_29_centro_3p5',\n",
       " 'city_30_singapore_3p5',\n",
       " 'city_31_barcelona_3p5',\n",
       " 'city_32_sydney_3p5',\n",
       " 'city_33_hong_kong_3p5',\n",
       " 'city_34_amsterdam_3p5',\n",
       " 'city_35_san_francisco_3p5',\n",
       " 'city_36_bangkok_3p5',\n",
       " 'city_37_seoul_3p5',\n",
       " 'city_38_toronto_3p5',\n",
       " 'city_39_jerusalem_3p5',\n",
       " 'city_40_prague_3p5',\n",
       " 'city_40_prague_3p5',\n",
       " 'city_41_kyoto_3p5',\n",
       " 'city_42_san_nicolas_3p5',\n",
       " 'city_43_cape_town_3p5',\n",
       " 'city_44_lisboa_3p5',\n",
       " 'city_45_stockholm_3p5',\n",
       " 'city_46_la_habana_3p5',\n",
       " 'city_47_chicago_3p5',\n",
       " 'city_48_gurbchen_3p5',\n",
       " 'city_48_gurbchen_3p5',\n",
       " 'city_25_instanbul_3p5',\n",
       " 'city_49_new_delhi_3p5',\n",
       " 'city_50_edinburgh_3p5',\n",
       " 'city_50_edinburgh_3p5',\n",
       " 'city_51_firenze_3p5',\n",
       " 'city_52_marrakesh_3p5',\n",
       " 'city_53_sankt-peterburg_3p5',\n",
       " 'city_54_north_jakarta_3p5',\n",
       " 'city_55_madrid_3p5',\n",
       " 'city_56_montreal_3p5',\n",
       " 'city_57_taipei_3p5',\n",
       " 'city_58_sumida_city_3p5',\n",
       " 'city_59_roma_3p5',\n",
       " 'city_60_toronto_3p5',\n",
       " 'city_61_hatsukaichi_3p5',\n",
       " 'city_62_santiago_3p5',\n",
       " 'city_63_athens_3p5',\n",
       " 'city_64_new_york_3p5',\n",
       " 'city_65_granada_3p5',\n",
       " 'city_66_bruxelles_3p5',\n",
       " 'city_67_fujiyoshida_3p5',\n",
       " 'city_68_reykjavik_3p5',\n",
       " 'city_69_warszawa_3p5',\n",
       " 'city_70_stockholm_3p5',\n",
       " 'city_71_helsinki_3p5',\n",
       " 'city_0_newyork_3p5_s',\n",
       " 'city_11_santaclara_3p5_s',\n",
       " 'city_1_losangeles_3p5_s',\n",
       " 'city_19_oklahoma_3p5_s',\n",
       " 'city_18_denver_3p5_s',\n",
       " 'city_17_seattle_3p5_s',\n",
       " 'city_16_sanfrancisco_3p5_s',\n",
       " 'city_9_sanfrancisco_3p5_s',\n",
       " 'city_13_columbus_3p5_s',\n",
       " 'city_2_chicago_3p5_s',\n",
       " 'city_8_dallas_3p5_s',\n",
       " 'city_5_philadelphia_3p5_s',\n",
       " 'city_7_sandiego_3p5_s',\n",
       " 'city_3_houston_3p5_s',\n",
       " 'city_14_charlotte_3p5_s',\n",
       " 'city_4_phoenix_3p5_s',\n",
       " 'city_15_indianapolis_3p5_s',\n",
       " 'city_6_miami_3p5_s',\n",
       " 'city_10_austin_3p5_s',\n",
       " 'city_12_fortworth_3p5_s',\n",
       " 'city_19_oklahoma_3p5_lwm',\n",
       " 'city_0_newyork_3p5_lwm',\n",
       " 'city_1_losangeles_3p5_lwm',\n",
       " 'city_2_chicago_3p5_lwm',\n",
       " 'city_3_houston_3p5_lwm',\n",
       " 'city_4_phoenix_3p5_lwm',\n",
       " 'city_5_philadelphia_3p5_lwm',\n",
       " 'city_6_miami_3p5_lwm',\n",
       " 'city_7_sandiego_3p5_lwm',\n",
       " 'city_8_dallas_3p5_lwm',\n",
       " 'city_9_sanfrancisco_3p5_lwm',\n",
       " 'city_10_austin_3p5_lwm',\n",
       " 'city_11_santaclara_3p5_lwm',\n",
       " 'city_12_fortworth_3p5_lwm',\n",
       " 'city_13_columbus_3p5_lwm',\n",
       " 'city_14_charlotte_3p5_lwm',\n",
       " 'city_15_indianapolis_3p5_lwm',\n",
       " 'city_16_sanfrancisco_3p5_lwm',\n",
       " 'city_17_seattle_3p5_lwm',\n",
       " 'city_18_denver_3p5_lwm',\n",
       " 'i3_60',\n",
       " 'i3_2p4',\n",
       " 'city_01_villas_florida',\n",
       " 'city_0_newyork_new',\n",
       " 'asu_campus_3p5_10cm',\n",
       " 'asu_campus_3p5_dyn',\n",
       " 'city_01_villas_florida_1gp',\n",
       " 'city_01_villas_florida_2gp',\n",
       " 'city_10_florida_villa_2gp',\n",
       " 'city_19_oklahoma_3p68_gc2',\n",
       " 'city_10_florida_villa_7gp',\n",
       " 'city_10_florida_villa_8gp_1758135830233']"
      ]
     },
     "execution_count": 26,
     "metadata": {},
     "output_type": "execute_result"
    }
   ],
   "source": [
    "scenarios"
   ]
  },
  {
   "cell_type": "code",
   "execution_count": 26,
   "id": "ff598e61-4b99-4b95-b119-b94930208861",
   "metadata": {},
   "outputs": [
    {
     "data": {
      "text/plain": [
       "['asu_campus_3p5',\n",
       " 'city_0_newyork_3p5',\n",
       " 'city_1_losangeles_3p5',\n",
       " 'city_2_chicago_3p5',\n",
       " 'city_3_houston_3p5',\n",
       " 'city_4_phoenix_3p5',\n",
       " 'city_5_philadelphia_3p5',\n",
       " 'city_6_miami_3p5',\n",
       " 'city_7_sandiego_3p5',\n",
       " 'city_8_dallas_3p5',\n",
       " 'city_9_sanfrancisco_3p5',\n",
       " 'city_10_austin_3p5',\n",
       " 'city_11_santaclara_3p5',\n",
       " 'city_12_fortworth_3p5',\n",
       " 'city_13_columbus_3p5',\n",
       " 'city_14_charlotte_3p5',\n",
       " 'city_15_indianapolis_3p5',\n",
       " 'city_16_sanfrancisco_3p5',\n",
       " 'city_17_seattle_3p5',\n",
       " 'city_18_denver_3p5',\n",
       " 'city_19_oklahoma_3p5',\n",
       " 'i1_2p5',\n",
       " 'i2_28b',\n",
       " 'city_0_newyork_28',\n",
       " 'city_1_losangeles_28',\n",
       " 'city_2_chicago_28',\n",
       " 'city_3_houston_28',\n",
       " 'city_4_phoenix_28',\n",
       " 'city_5_philadelphia_28',\n",
       " 'city_7_sandiego_28',\n",
       " 'city_6_miami_28',\n",
       " 'city_8_dallas_28',\n",
       " 'city_9_sanfrancisco_28',\n",
       " 'city_10_austin_28',\n",
       " 'city_11_santaclara_28',\n",
       " 'city_12_fortworth_28',\n",
       " 'city_13_columbus_28',\n",
       " 'city_14_charlotte_28',\n",
       " 'city_15_indianapolis_28',\n",
       " 'city_16_sanfrancisco_28',\n",
       " 'city_17_seattle_28',\n",
       " 'city_18_denver_28',\n",
       " 'city_19_oklahoma_28',\n",
       " 'o1_3p5',\n",
       " 'o1_3p4',\n",
       " 'o1b_3p5',\n",
       " 'o1b_28',\n",
       " 'o1_drone_200',\n",
       " 'o1_140',\n",
       " 'i2_28b',\n",
       " 'i1_2p5',\n",
       " 'i1_2p4',\n",
       " 'o1_28',\n",
       " 'o1_60',\n",
       " 'boston5g_3p5',\n",
       " 'boston5g_28',\n",
       " 'city_21_taito_city_3p5',\n",
       " 'city_22_rome_3p5',\n",
       " 'city_23_beijing_3p5',\n",
       " 'city_24_cairo_3p5',\n",
       " 'city_26_dubai_3p5',\n",
       " 'city_27_rio_de_janeiro_3p5',\n",
       " 'city_28_mumbai_3p5',\n",
       " 'city_29_centro_3p5',\n",
       " 'city_30_singapore_3p5',\n",
       " 'city_31_barcelona_3p5',\n",
       " 'city_32_sydney_3p5',\n",
       " 'city_33_hong_kong_3p5',\n",
       " 'city_34_amsterdam_3p5',\n",
       " 'city_35_san_francisco_3p5',\n",
       " 'city_36_bangkok_3p5',\n",
       " 'city_37_seoul_3p5',\n",
       " 'city_38_toronto_3p5',\n",
       " 'city_39_jerusalem_3p5',\n",
       " 'city_40_prague_3p5',\n",
       " 'city_40_prague_3p5',\n",
       " 'city_41_kyoto_3p5',\n",
       " 'city_42_san_nicolas_3p5',\n",
       " 'city_43_cape_town_3p5',\n",
       " 'city_44_lisboa_3p5',\n",
       " 'city_45_stockholm_3p5',\n",
       " 'city_46_la_habana_3p5',\n",
       " 'city_47_chicago_3p5',\n",
       " 'city_48_gurbchen_3p5',\n",
       " 'city_48_gurbchen_3p5',\n",
       " 'city_25_instanbul_3p5',\n",
       " 'city_49_new_delhi_3p5',\n",
       " 'city_50_edinburgh_3p5',\n",
       " 'city_50_edinburgh_3p5',\n",
       " 'city_51_firenze_3p5',\n",
       " 'city_52_marrakesh_3p5',\n",
       " 'city_53_sankt-peterburg_3p5',\n",
       " 'city_54_north_jakarta_3p5',\n",
       " 'city_55_madrid_3p5',\n",
       " 'city_56_montreal_3p5',\n",
       " 'city_57_taipei_3p5',\n",
       " 'city_58_sumida_city_3p5',\n",
       " 'city_59_roma_3p5',\n",
       " 'city_60_toronto_3p5',\n",
       " 'city_61_hatsukaichi_3p5',\n",
       " 'city_62_santiago_3p5',\n",
       " 'city_63_athens_3p5',\n",
       " 'city_64_new_york_3p5',\n",
       " 'city_65_granada_3p5',\n",
       " 'city_66_bruxelles_3p5',\n",
       " 'city_67_fujiyoshida_3p5',\n",
       " 'city_68_reykjavik_3p5',\n",
       " 'city_69_warszawa_3p5',\n",
       " 'city_70_stockholm_3p5',\n",
       " 'city_71_helsinki_3p5',\n",
       " 'city_0_newyork_3p5_s',\n",
       " 'city_11_santaclara_3p5_s',\n",
       " 'city_1_losangeles_3p5_s',\n",
       " 'city_19_oklahoma_3p5_s',\n",
       " 'city_18_denver_3p5_s',\n",
       " 'city_17_seattle_3p5_s',\n",
       " 'city_16_sanfrancisco_3p5_s',\n",
       " 'city_9_sanfrancisco_3p5_s',\n",
       " 'city_13_columbus_3p5_s',\n",
       " 'city_2_chicago_3p5_s',\n",
       " 'city_8_dallas_3p5_s',\n",
       " 'city_5_philadelphia_3p5_s',\n",
       " 'city_7_sandiego_3p5_s',\n",
       " 'city_3_houston_3p5_s',\n",
       " 'city_14_charlotte_3p5_s',\n",
       " 'city_4_phoenix_3p5_s',\n",
       " 'city_15_indianapolis_3p5_s',\n",
       " 'city_6_miami_3p5_s',\n",
       " 'city_10_austin_3p5_s',\n",
       " 'city_12_fortworth_3p5_s',\n",
       " 'city_19_oklahoma_3p5_lwm',\n",
       " 'city_0_newyork_3p5_lwm',\n",
       " 'city_1_losangeles_3p5_lwm',\n",
       " 'city_2_chicago_3p5_lwm',\n",
       " 'city_3_houston_3p5_lwm',\n",
       " 'city_4_phoenix_3p5_lwm',\n",
       " 'city_5_philadelphia_3p5_lwm',\n",
       " 'city_6_miami_3p5_lwm',\n",
       " 'city_7_sandiego_3p5_lwm',\n",
       " 'city_8_dallas_3p5_lwm',\n",
       " 'city_9_sanfrancisco_3p5_lwm',\n",
       " 'city_10_austin_3p5_lwm',\n",
       " 'city_11_santaclara_3p5_lwm',\n",
       " 'city_12_fortworth_3p5_lwm',\n",
       " 'city_13_columbus_3p5_lwm',\n",
       " 'city_14_charlotte_3p5_lwm',\n",
       " 'city_15_indianapolis_3p5_lwm',\n",
       " 'city_16_sanfrancisco_3p5_lwm',\n",
       " 'city_17_seattle_3p5_lwm',\n",
       " 'city_18_denver_3p5_lwm',\n",
       " 'i3_60',\n",
       " 'i3_2p4',\n",
       " 'city_01_villas_florida',\n",
       " 'city_0_newyork_new',\n",
       " 'asu_campus_3p5_10cm',\n",
       " 'asu_campus_3p5_dyn',\n",
       " 'city_01_villas_florida_1gp',\n",
       " 'city_01_villas_florida_2gp',\n",
       " 'city_10_florida_villa_2gp',\n",
       " 'city_19_oklahoma_3p68_gc2',\n",
       " 'city_10_florida_villa_7gp',\n",
       " 'city_10_florida_villa_8gp_1758135830233']"
      ]
     },
     "execution_count": 26,
     "metadata": {},
     "output_type": "execute_result"
    }
   ],
   "source": [
    "scenarios"
   ]
  },
  {
   "cell_type": "code",
   "execution_count": 27,
   "id": "58402af8-16ae-47c0-9ed1-5b61727634e2",
   "metadata": {},
   "outputs": [
    {
     "name": "stdout",
     "output_type": "stream",
     "text": [
      "Downloading scenario 'city_18_denver_28'\n"
     ]
    },
    {
     "name": "stderr",
     "output_type": "stream",
     "text": [
      "Downloading: 100%|█████████████████████████████████████████████████████████████████| 49.3M/49.3M [00:05<00:00, 8.63MB/s]\n"
     ]
    },
    {
     "name": "stdout",
     "output_type": "stream",
     "text": [
      "✓ Downloaded to /home/dlghdbs200/LWM_denver/deepmimo_scenarios/city_18_denver_28_downloaded.zip\n"
     ]
    },
    {
     "name": "stderr",
     "output_type": "stream",
     "text": [
      "Extracting: 100%|██████████████████████████████████████████████████████████████████| 135/135 [00:01<00:00, 125.22file/s]"
     ]
    },
    {
     "name": "stdout",
     "output_type": "stream",
     "text": [
      "✓ Unzipped and moved to /home/dlghdbs200/LWM_denver/deepmimo_scenarios\n",
      "✓ Scenario 'city_18_denver_28' ready to use!\n"
     ]
    },
    {
     "name": "stderr",
     "output_type": "stream",
     "text": [
      "\n"
     ]
    },
    {
     "data": {
      "text/plain": [
       "'/home/dlghdbs200/LWM_denver/deepmimo_scenarios/city_18_denver_28_downloaded.zip'"
      ]
     },
     "execution_count": 27,
     "metadata": {},
     "output_type": "execute_result"
    }
   ],
   "source": [
    "import deepmimo as dm\n",
    "\n",
    "# Download a specific scenario\n",
    "dm.download('city_18_denver_28')"
   ]
  },
  {
   "cell_type": "markdown",
   "id": "8bbe816b-f8f0-42a4-a1db-26c752132b9b",
   "metadata": {},
   "source": [
    "# dataset load"
   ]
  },
  {
   "cell_type": "code",
   "execution_count": 30,
   "id": "9af341ca-03d3-423d-b26c-4169f2d34e3c",
   "metadata": {},
   "outputs": [
    {
     "name": "stdout",
     "output_type": "stream",
     "text": [
      "Loading TXRX PAIR: TXset 1 (tx_idx 0) & RXset 0 (rx_idxs 43248)\n",
      "Loading TXRX PAIR: TXset 2 (tx_idx 0) & RXset 0 (rx_idxs 43248)\n",
      "Loading TXRX PAIR: TXset 3 (tx_idx 0) & RXset 0 (rx_idxs 43248)\n"
     ]
    },
    {
     "name": "stderr",
     "output_type": "stream",
     "text": [
      "Generating channels: 100%|█████████████████████████████████████████████████████| 43248/43248 [00:01<00:00, 22424.21it/s]\n",
      "Generating channels: 100%|█████████████████████████████████████████████████████| 43248/43248 [00:02<00:00, 19336.98it/s]\n",
      "Generating channels: 100%|█████████████████████████████████████████████████████| 43248/43248 [00:01<00:00, 22860.32it/s]\n"
     ]
    }
   ],
   "source": [
    "import deepmimo as dm\n",
    "\n",
    "# Load dataset\n",
    "dataset = dm.load(\"city_18_denver_28\")\n",
    "\n",
    "# Access dataset properties\n",
    "aoa_az = dataset.aoa_az\n",
    "aoa_el = dataset.aoa_el\n",
    "inter_pos = dataset.inter_pos\n",
    "\n",
    "# Compute specific channel information\n",
    "# los = dataset.compute_los()\n",
    "channels = dataset.compute_channels()\n",
    "pl = dataset.compute_pathloss()"
   ]
  },
  {
   "cell_type": "code",
   "execution_count": 33,
   "id": "c927c1fa-dad6-4581-ac78-bc2c65b19b72",
   "metadata": {},
   "outputs": [
    {
     "ename": "TypeError",
     "evalue": "list indices must be integers or slices, not tuple",
     "output_type": "error",
     "traceback": [
      "\u001b[0;31m---------------------------------------------------------------------------\u001b[0m",
      "\u001b[0;31mTypeError\u001b[0m                                 Traceback (most recent call last)",
      "Cell \u001b[0;32mIn[33], line 7\u001b[0m\n\u001b[1;32m      2\u001b[0m \u001b[38;5;28;01mimport\u001b[39;00m \u001b[38;5;21;01mnumpy\u001b[39;00m \u001b[38;5;28;01mas\u001b[39;00m \u001b[38;5;21;01mnp\u001b[39;00m\n\u001b[1;32m      4\u001b[0m \u001b[38;5;66;03m# Load scenario\u001b[39;00m\n\u001b[1;32m      5\u001b[0m \n\u001b[1;32m      6\u001b[0m \u001b[38;5;66;03m# Plot power coverage map\u001b[39;00m\n\u001b[0;32m----> 7\u001b[0m dm\u001b[38;5;241m.\u001b[39mplot_coverage(dataset\u001b[38;5;241m.\u001b[39mrx_pos, \u001b[43mdataset\u001b[49m\u001b[38;5;241;43m.\u001b[39;49m\u001b[43mpower\u001b[49m\u001b[43m[\u001b[49m\u001b[43m:\u001b[49m\u001b[43m,\u001b[49m\u001b[38;5;241;43m0\u001b[39;49m\u001b[43m]\u001b[49m,\n\u001b[1;32m      8\u001b[0m     bs_pos\u001b[38;5;241m=\u001b[39mdataset\u001b[38;5;241m.\u001b[39mtx_pos\u001b[38;5;241m.\u001b[39mT,\n\u001b[1;32m      9\u001b[0m     title\u001b[38;5;241m=\u001b[39m\u001b[38;5;124m\"\u001b[39m\u001b[38;5;124mPower Coverage Map (dB)\u001b[39m\u001b[38;5;124m\"\u001b[39m)\n",
      "\u001b[0;31mTypeError\u001b[0m: list indices must be integers or slices, not tuple"
     ]
    }
   ],
   "source": [
    "import deepmimo as dm\n",
    "import numpy as np\n",
    "\n",
    "# Load scenario\n",
    "\n",
    "# Plot power coverage map\n",
    "dm.plot_coverage(dataset.rx_pos, dataset.power[:,0],\n",
    "    bs_pos=dataset.tx_pos.T,\n",
    "    title=\"Power Coverage Map (dB)\")"
   ]
  },
  {
   "cell_type": "code",
   "execution_count": null,
   "id": "c054a1b2-bd61-4c36-9862-79884320e360",
   "metadata": {},
   "outputs": [
    {
     "name": "stdout",
     "output_type": "stream",
     "text": [
      "Scenario not found. Would you like to download it? [Y/n]\n"
     ]
    }
   ],
   "source": []
  },
  {
   "cell_type": "code",
   "execution_count": null,
   "id": "1e8ff0c8-c264-4cf3-9308-c13ff2ab9250",
   "metadata": {},
   "outputs": [],
   "source": []
  }
 ],
 "metadata": {
  "kernelspec": {
   "display_name": "Python 3 (ipykernel)",
   "language": "python",
   "name": "python3"
  },
  "language_info": {
   "codemirror_mode": {
    "name": "ipython",
    "version": 3
   },
   "file_extension": ".py",
   "mimetype": "text/x-python",
   "name": "python",
   "nbconvert_exporter": "python",
   "pygments_lexer": "ipython3",
   "version": "3.10.12"
  }
 },
 "nbformat": 4,
 "nbformat_minor": 5
}
